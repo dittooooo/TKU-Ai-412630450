{
  "nbformat": 4,
  "nbformat_minor": 0,
  "metadata": {
    "colab": {
      "provenance": [],
      "authorship_tag": "ABX9TyODea/cASUfGDEUMx0QDC6x",
      "include_colab_link": true
    },
    "kernelspec": {
      "name": "python3",
      "display_name": "Python 3"
    },
    "language_info": {
      "name": "python"
    }
  },
  "cells": [
    {
      "cell_type": "markdown",
      "metadata": {
        "id": "view-in-github",
        "colab_type": "text"
      },
      "source": [
        "<a href=\"https://colab.research.google.com/github/dittooooo/TKU-Ai-412630450/blob/main/1017.ipynb\" target=\"_parent\"><img src=\"https://colab.research.google.com/assets/colab-badge.svg\" alt=\"Open In Colab\"/></a>"
      ]
    },
    {
      "cell_type": "code",
      "execution_count": 1,
      "metadata": {
        "colab": {
          "base_uri": "https://localhost:8080/",
          "height": 386
        },
        "id": "hJ80MrWqBLNN",
        "outputId": "7658a09f-2727-41a7-c91f-5f8c77845ec1"
      },
      "outputs": [
        {
          "output_type": "error",
          "ename": "ModuleNotFoundError",
          "evalue": "ignored",
          "traceback": [
            "\u001b[0;31m---------------------------------------------------------------------------\u001b[0m",
            "\u001b[0;31mModuleNotFoundError\u001b[0m                       Traceback (most recent call last)",
            "\u001b[0;32m<ipython-input-1-aa89b044a983>\u001b[0m in \u001b[0;36m<cell line: 3>\u001b[0;34m()\u001b[0m\n\u001b[1;32m      1\u001b[0m \u001b[0;32mimport\u001b[0m \u001b[0mcv2\u001b[0m\u001b[0;34m\u001b[0m\u001b[0;34m\u001b[0m\u001b[0m\n\u001b[1;32m      2\u001b[0m \u001b[0;32mimport\u001b[0m \u001b[0mnumpy\u001b[0m \u001b[0;32mas\u001b[0m \u001b[0mnp\u001b[0m\u001b[0;34m\u001b[0m\u001b[0;34m\u001b[0m\u001b[0m\n\u001b[0;32m----> 3\u001b[0;31m \u001b[0;32mimport\u001b[0m \u001b[0mpytesseract\u001b[0m\u001b[0;34m\u001b[0m\u001b[0;34m\u001b[0m\u001b[0m\n\u001b[0m\u001b[1;32m      4\u001b[0m \u001b[0;34m\u001b[0m\u001b[0m\n\u001b[1;32m      5\u001b[0m \u001b[0;31m# 讀取車牌照片\u001b[0m\u001b[0;34m\u001b[0m\u001b[0;34m\u001b[0m\u001b[0m\n",
            "\u001b[0;31mModuleNotFoundError\u001b[0m: No module named 'pytesseract'",
            "",
            "\u001b[0;31m---------------------------------------------------------------------------\u001b[0;32m\nNOTE: If your import is failing due to a missing package, you can\nmanually install dependencies using either !pip or !apt.\n\nTo view examples of installing some common dependencies, click the\n\"Open Examples\" button below.\n\u001b[0;31m---------------------------------------------------------------------------\u001b[0m\n"
          ],
          "errorDetails": {
            "actions": [
              {
                "action": "open_url",
                "actionText": "Open Examples",
                "url": "/notebooks/snippets/importing_libraries.ipynb"
              }
            ]
          }
        }
      ],
      "source": [
        "import cv2\n",
        "import numpy as np\n",
        "import pytesseract\n",
        "\n",
        "# 讀取車牌照片\n",
        "image = cv2.imread('car2.jpg')\n",
        "\n",
        "# 預處理圖像（灰度化、高斯模糊、二值化）\n",
        "gray = cv2.cvtColor(image, cv2.COLOR_BGR2GRAY)\n",
        "blurred = cv2.GaussianBlur(gray, (5, 5), 0)\n",
        "_, thresh = cv2.threshold(blurred, 0, 255, cv2.THRESH_BINARY + cv2.THRESH_OTSU)\n",
        "text = pytesseract.image_to_string(thresh, config='--psm 6')\n",
        "print(\"識别的車牌號碼：\", text)\n",
        "\n",
        "# 顯示編輯後的圖像\n",
        "cv2.imshow('Edited Image', thresh)\n",
        "cv2.waitKey(0)\n",
        "cv2.destroyAllWindows()\n",
        "\n",
        "'''\n",
        "版本二:\n",
        "import cv2\n",
        "import numpy as np\n",
        "import pytesseract\n",
        "\n",
        "# 讀取車牌照片\n",
        "image = cv2.imread('car2.jpg')\n",
        "\n",
        "# 預處理圖像（灰度化、高斯模糊、二值化）\n",
        "gray = cv2.cvtColor(image, cv2.COLOR_BGR2GRAY)\n",
        "blurred = cv2.GaussianBlur(gray, (5, 5), 0)\n",
        "_, thresh = cv2.threshold(blurred, 0, 255, cv2.THRESH_BINARY + cv2.THRESH_OTSU)\n",
        "\n",
        "# 找到車牌號碼輪廓\n",
        "contours, _ = cv2.findContours(thresh, cv2.RETR_EXTERNAL, cv2.CHAIN_APPROX_SIMPLE)\n",
        "\n",
        "# 找到最大的輪廓\n",
        "if contours:\n",
        "    max_contour = max(contours, key=cv2.contourArea)\n",
        "\n",
        "    # 獲取車牌區域座標\n",
        "    x, y, w, h = cv2.boundingRect(max_contour)\n",
        "\n",
        "    # 剪裁車牌區域\n",
        "    plate_region = image[y:y+h, x:x+w]\n",
        "\n",
        "    # 保存剪裁後的車牌區域\n",
        "    cv2.imwrite('plate_region.jpg', plate_region)\n",
        "\n",
        "    # 使用Tesseract OCR来識別車牌號碼\n",
        "    text = pytesseract.image_to_string(plate_region, config='--psm 6')\n",
        "    print(\"識别的車牌號碼：\", text)\n",
        "\n",
        "# 顯示編輯後的選項\n",
        "cv2.imshow('Edited Image', thresh)\n",
        "cv2.waitKey(0)\n",
        "cv2.destroyAllWindows()\n",
        "\n",
        "\n",
        "版本三:\n",
        "import cv2\n",
        "import numpy as np\n",
        "import pytesseract\n",
        "\n",
        "# 讀取車牌照片s\n",
        "image = cv2.imread('car2.jpg')\n",
        "\n",
        "# 預處理圖像（灰度化、高斯模糊、二值化）\n",
        "gray = cv2.cvtColor(image, cv2.COLOR_BGR2GRAY)\n",
        "blurred = cv2.GaussianBlur(gray, (5, 5), 0)\n",
        "_, thresh = cv2.threshold(blurred, 0, 255, cv2.THRESH_BINARY + cv2.THRESH_OTSU)\n",
        "\n",
        "# 找到車牌號碼輪廓\n",
        "contours, _ = cv2.findContours(thresh, cv2.RETR_EXTERNAL, cv2.CHAIN_APPROX_SIMPLE)\n",
        "\n",
        "# 找到最大的輪廓\n",
        "if contours:\n",
        "    max_contour = max(contours, key=cv2.contourArea)\n",
        "\n",
        "    # 獲取車牌區域座標\n",
        "    x, y, w, h = cv2.boundingRect(max_contour)\n",
        "\n",
        "    # 剪裁車牌區域\n",
        "    plate_region = image[y:y+h, x:x+w]\n",
        "\n",
        "    #使用分水嶺算法分割車牌區域\n",
        "    plate_marked = plate_region.copy()\n",
        "    gray_plate = cv2.cvtColor(plate_marked, cv2.COLOR_BGR2GRAY)\n",
        "    _, markers = cv2.connectedComponents(gray_plate)\n",
        "    markers = markers + 1\n",
        "    markers[gray_plate > 20] = 0\n",
        "    markers = cv2.watershed(plate_marked, markers)\n",
        "    plate_region[markers == -1] = [0, 0, 255]\n",
        "\n",
        "    # 保存剪裁後的車牌區域\n",
        "    cv2.imwrite('plate_region.jpg', plate_region)\n",
        "\n",
        "    # 使用Tesseract OCR来識別車牌號碼\n",
        "    text = pytesseract.image_to_string(thresh, config='--psm 6')\n",
        "    print(\"識别的車牌號碼：\", text)\n",
        "\n",
        "# 顯示編輯後的選項\n",
        "cv2.imshow('Edited Image', thresh)\n",
        "cv2.waitKey(0)\n",
        "cv2.destroyAllWindows()\n",
        "\n",
        "'''"
      ]
    }
  ]
}