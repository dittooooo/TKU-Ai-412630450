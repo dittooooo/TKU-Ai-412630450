{
  "nbformat": 4,
  "nbformat_minor": 0,
  "metadata": {
    "colab": {
      "provenance": [],
      "authorship_tag": "ABX9TyOzbsUtmoQfU2byimwhSk6S",
      "include_colab_link": true
    },
    "kernelspec": {
      "name": "python3",
      "display_name": "Python 3"
    },
    "language_info": {
      "name": "python"
    }
  },
  "cells": [
    {
      "cell_type": "markdown",
      "metadata": {
        "id": "view-in-github",
        "colab_type": "text"
      },
      "source": [
        "<a href=\"https://colab.research.google.com/github/dittooooo/TKU-Ai-412630450/blob/main/1003.ipynb\" target=\"_parent\"><img src=\"https://colab.research.google.com/assets/colab-badge.svg\" alt=\"Open In Colab\"/></a>"
      ]
    },
    {
      "cell_type": "code",
      "execution_count": null,
      "metadata": {
        "id": "oBQPZYd1PK04"
      },
      "outputs": [],
      "source": [
        "import cv2\n",
        "import pytesseract\n",
        "import numpy as np\n",
        "\n",
        "# 读取车牌照片\n",
        "image = cv2.imread('  ')\n",
        "\n",
        "# 预处理图像（灰度化、高斯模糊、二值化）\n",
        "\n",
        "gray = cv2.cvtColor(image, cv2.COLOR_BGR2GRAY)\n",
        "##res_img = cv2.resize(gray,(300,600),interpolation=cv2.INTER_AREA)\n",
        "blurred = cv2.GaussianBlur(gray, (5, 5), 0)\n",
        "_, thresh = cv2.threshold(blurred, 0, 255, cv2.THRESH_BINARY + cv2.THRESH_OTSU)\n",
        "resized_image = cv2.resize(thresh, (300, 600), interpolation=cv2.INTER_AREA)\n",
        "\n",
        "\n",
        "# 找到车牌号码的轮廓\n",
        "contours, _ = cv2.findContours(thresh, cv2.RETR_EXTERNAL, cv2.CHAIN_APPROX_SIMPLE)\n",
        "\n",
        "# 找到最大的轮廓\n",
        "if contours:\n",
        "    max_contour = max(contours, key=cv2.contourArea)\n",
        "\n",
        "    # 获取车牌区域的坐标\n",
        "    x, y, w, h = cv2.boundingRect(max_contour)\n",
        "\n",
        "    # 裁剪车牌区域\n",
        "    plate_region = image[y:y+h, x:x+w]\n",
        "\n",
        "    # 保存裁剪后的车牌区域\n",
        "    cv2.imwrite('plate_region.jpg', plate_region)\n",
        "\n",
        "    # 使用Tesseract OCR来识别车牌号码\n",
        "    text = pytesseract.image_to_string(plate_region, config='--psm 6')\n",
        "\n",
        "    # 显示识别结果\n",
        "print(\"识别的车牌号码：\", text)\n",
        "\n",
        "# 显示编辑后的图像（带有车牌边框）\n",
        "##cv2.imshow('img',res_img)\n",
        "cv2.imshow('Edited Image',  thresh )\n",
        "cv2.waitKey(0)\n",
        "cv2.destroyAllWindows()"
      ]
    }
  ]
}